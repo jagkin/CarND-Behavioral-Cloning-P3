{
 "cells": [
  {
   "cell_type": "markdown",
   "metadata": {},
   "source": [
    "### Create and train the network to predict steering angle for car in simulator"
   ]
  },
  {
   "cell_type": "markdown",
   "metadata": {},
   "source": [
    "#### Read the training data and store images and steering measurements in to np arrays"
   ]
  },
  {
   "cell_type": "code",
   "execution_count": 6,
   "metadata": {},
   "outputs": [
    {
     "name": "stdout",
     "output_type": "stream",
     "text": [
      "(7852, 160, 320, 3)\n",
      "(7852,)\n"
     ]
    }
   ],
   "source": [
    "import csv\n",
    "import numpy as np\n",
    "import matplotlib.image as mpimg\n",
    "\n",
    "lines = []\n",
    "csvfile = open('../P3_Support/Training_Data/t1/driving_log.csv')\n",
    "reader = csv.reader(csvfile)\n",
    "for line in reader:\n",
    "    lines.append(line)\n",
    "    \n",
    "cimages = []\n",
    "steerings = []\n",
    "\n",
    "for line in lines:\n",
    "    orig_path = line[0]\n",
    "    new_base_path = '../P3_Support/Training_Data/t1/IMG/'\n",
    "    cfile_name = orig_path.split('\\\\')[-1] \n",
    "    cfile_path = new_base_path + cfile_name\n",
    "    image = mpimg.imread(cfile_path)\n",
    "    cimages.append(image)\n",
    "    steer = float(line[3])\n",
    "    steerings.append(steer)\n",
    "\n",
    "lines = []\n",
    "csvfile = open('../P3_Support/Training_Data/t1_recovery_left/driving_log.csv')\n",
    "reader = csv.reader(csvfile)\n",
    "for line in reader:\n",
    "    lines.append(line)\n",
    "    \n",
    "for line in lines:\n",
    "    orig_path = line[0]\n",
    "    new_base_path = '../P3_Support/Training_Data/t1_recovery_left/IMG/'\n",
    "    cfile_name = orig_path.split('\\\\')[-1] \n",
    "    cfile_path = new_base_path + cfile_name\n",
    "    image = mpimg.imread(cfile_path)\n",
    "    cimages.append(image)\n",
    "    steer = float(line[3])\n",
    "    steerings.append(steer)\n",
    "    \n",
    "lines = []\n",
    "csvfile = open('../P3_Support/Training_Data/t1_recovery_right/driving_log.csv')\n",
    "reader = csv.reader(csvfile)\n",
    "for line in reader:\n",
    "    lines.append(line)\n",
    "    \n",
    "for line in lines:\n",
    "    orig_path = line[0]\n",
    "    new_base_path = '../P3_Support/Training_Data/t1_recovery_right/IMG/'\n",
    "    cfile_name = orig_path.split('\\\\')[-1] \n",
    "    cfile_path = new_base_path + cfile_name\n",
    "    image = mpimg.imread(cfile_path)\n",
    "    cimages.append(image)\n",
    "    steer = float(line[3])\n",
    "    steerings.append(steer)\n",
    "\n",
    "lines = []\n",
    "csvfile = open('../P3_Support/Training_Data/t1_reverse/driving_log.csv')\n",
    "reader = csv.reader(csvfile)\n",
    "for line in reader:\n",
    "    lines.append(line)\n",
    "    \n",
    "for line in lines:\n",
    "    orig_path = line[0]\n",
    "    new_base_path = '../P3_Support/Training_Data/t1_reverse/IMG/'\n",
    "    cfile_name = orig_path.split('\\\\')[-1] \n",
    "    cfile_path = new_base_path + cfile_name\n",
    "    image = mpimg.imread(cfile_path)\n",
    "    cimages.append(image)\n",
    "    steer = float(line[3])\n",
    "    steerings.append(steer)\n",
    "\n",
    "#Data agumentation\n",
    "aug_images = []\n",
    "aug_steerings = []\n",
    "for image, steering in zip(cimages, steerings):\n",
    "    aug_images.append(image)\n",
    "    aug_steerings.append(steering)\n",
    "    image_flipped = np.fliplr(image)\n",
    "    steer_flipped = -steering\n",
    "    aug_images.append(image_flipped)\n",
    "    aug_steerings.append(steer_flipped)\n",
    "    \n",
    "    \n",
    "X_train = np.array(aug_images)\n",
    "y_train = np.array(aug_steerings)\n",
    "\n",
    "print(X_train.shape)\n",
    "print(y_train.shape)\n",
    "\n"
   ]
  },
  {
   "cell_type": "markdown",
   "metadata": {},
   "source": [
    "#### Split the training data for validation, construct a network"
   ]
  },
  {
   "cell_type": "code",
   "execution_count": 12,
   "metadata": {},
   "outputs": [
    {
     "name": "stdout",
     "output_type": "stream",
     "text": [
      "Train on 6281 samples, validate on 1571 samples\n",
      "Epoch 1/7\n",
      "6281/6281 [==============================] - 280s - loss: 0.5598 - val_loss: 0.0478\n",
      "Epoch 2/7\n",
      "6281/6281 [==============================] - 321s - loss: 0.0366 - val_loss: 0.0462\n",
      "Epoch 3/7\n",
      "6281/6281 [==============================] - 327s - loss: 0.0339 - val_loss: 0.0461\n",
      "Epoch 4/7\n",
      "6281/6281 [==============================] - 305s - loss: 0.0333 - val_loss: 0.0459\n",
      "Epoch 5/7\n",
      "6281/6281 [==============================] - 313s - loss: 0.0318 - val_loss: 0.0457\n",
      "Epoch 6/7\n",
      "6281/6281 [==============================] - 302s - loss: 0.0311 - val_loss: 0.0459\n",
      "Epoch 7/7\n",
      "6281/6281 [==============================] - 313s - loss: 0.0297 - val_loss: 0.0456\n"
     ]
    }
   ],
   "source": [
    "from keras.models import Sequential\n",
    "from keras.layers import Flatten, Dense, Lambda, Conv2D, Dropout, Cropping2D\n",
    "from keras.layers.pooling import MaxPooling2D\n",
    "\n",
    "model = Sequential()\n",
    "#Normalization\n",
    "model.add(Lambda(lambda x: (x/255.0 - 0.5), input_shape=(160,320,3)))\n",
    "model.add(Cropping2D(cropping=((50, 20), (0, 0))))\n",
    "#Convolution->relu->MaxPooling\n",
    "model.add(Conv2D(12, 5, 5, activation='relu'))\n",
    "model.add(MaxPooling2D())\n",
    "#Dropout\n",
    "model.add(Dropout(0.6))\n",
    "#Convolution->relu->MaxPooling\n",
    "model.add(Conv2D(6, 5, 5, activation='relu'))\n",
    "model.add(MaxPooling2D())\n",
    "#Dropout\n",
    "model.add(Dropout(0.6))\n",
    "#Flatten\n",
    "model.add(Flatten())\n",
    "#Fully connected\n",
    "model.add(Dense(120))\n",
    "model.add(Dropout(0.6))\n",
    "model.add(Dense(60))\n",
    "model.add(Dense(1))\n",
    "model.compile(loss='mse', optimizer='adam')\n",
    "model.fit(X_train, y_train, validation_split=0.2, shuffle=True, nb_epoch=7)\n",
    "\n",
    "model.save('model.h5')\n",
    "\n"
   ]
  },
  {
   "cell_type": "code",
   "execution_count": null,
   "metadata": {},
   "outputs": [],
   "source": []
  }
 ],
 "metadata": {
  "kernelspec": {
   "display_name": "Python 3",
   "language": "python",
   "name": "python3"
  },
  "language_info": {
   "codemirror_mode": {
    "name": "ipython",
    "version": 3
   },
   "file_extension": ".py",
   "mimetype": "text/x-python",
   "name": "python",
   "nbconvert_exporter": "python",
   "pygments_lexer": "ipython3",
   "version": "3.5.2"
  },
  "widgets": {
   "state": {},
   "version": "1.1.2"
  }
 },
 "nbformat": 4,
 "nbformat_minor": 2
}
