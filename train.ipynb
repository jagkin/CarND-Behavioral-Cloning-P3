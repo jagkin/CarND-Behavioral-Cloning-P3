{
 "cells": [
  {
   "cell_type": "markdown",
   "metadata": {},
   "source": [
    "### Create and train the network to predict steering angle for car in simulator"
   ]
  },
  {
   "cell_type": "markdown",
   "metadata": {},
   "source": [
    "#### Read the training data and store images and steering measurements in to np arrays"
   ]
  },
  {
   "cell_type": "code",
   "execution_count": 8,
   "metadata": {},
   "outputs": [
    {
     "name": "stdout",
     "output_type": "stream",
     "text": [
      "(3956, 160, 320, 3)\n",
      "(3956,)\n"
     ]
    }
   ],
   "source": [
    "import csv\n",
    "import numpy as np\n",
    "import matplotlib.image as mpimg\n",
    "\n",
    "def get_image_file_path(line, index, base_path):\n",
    "    orig_path = line[index]\n",
    "    file_name = orig_path.split('\\\\')[-1]\n",
    "    file_path = base_path + file_name\n",
    "    return file_path\n",
    "    \n",
    "images = []\n",
    "steerings = []\n",
    "    \n",
    "def read_dataset(dataset, images, steerings):\n",
    "    lines = []\n",
    "    csvpath = '../P3_Support/Training_Data/' + dataset + '/driving_log.csv'\n",
    "    csvfile = open(csvpath)\n",
    "    reader = csv.reader(csvfile)\n",
    "    for line in reader:\n",
    "        lines.append(line)\n",
    "\n",
    "    for line in lines:\n",
    "        new_base_path = '../P3_Support/Training_Data/' + dataset + '/IMG/'     \n",
    "        center_image = mpimg.imread(get_image_file_path(line, 0, new_base_path))\n",
    "#        left_image = mpimg.imread(get_image_file_path(line, 0, new_base_path))\n",
    "#        right_image = mpimg.imread(get_image_file_path(line, 0, new_base_path))\n",
    "        center_steer = float(line[3])\n",
    "#        left_steer = center_steer + 0.1\n",
    "#        right_steer = float(line[3])\n",
    "        images.append(center_image)        \n",
    "        steerings.append(center_steer)        \n",
    "    return\n",
    "       \n",
    "read_dataset('t1', images, steerings)\n",
    "read_dataset('t1_recovery_left', images, steerings)\n",
    "read_dataset('t1_recovery_right', images, steerings)\n",
    "#read_dataset('t1_reverse', images, steerings)\n",
    "\n",
    "#Data agumentation\n",
    "aug_images = []\n",
    "aug_steerings = []\n",
    "for image, steering in zip(cimages, steerings):\n",
    "    aug_images.append(image)\n",
    "    aug_steerings.append(steering)\n",
    "    image_flipped = np.fliplr(image)\n",
    "    steer_flipped = -steering\n",
    "    aug_images.append(image_flipped)\n",
    "    aug_steerings.append(steer_flipped)  \n",
    "    \n",
    "X_train = np.array(aug_images)\n",
    "y_train = np.array(aug_steerings)\n",
    "\n",
    "print(X_train.shape)\n",
    "print(y_train.shape)\n",
    "\n"
   ]
  },
  {
   "cell_type": "markdown",
   "metadata": {},
   "source": [
    "#### Split the training data for validation, construct a network"
   ]
  },
  {
   "cell_type": "code",
   "execution_count": 9,
   "metadata": {},
   "outputs": [
    {
     "name": "stdout",
     "output_type": "stream",
     "text": [
      "Train on 2769 samples, validate on 1187 samples\n",
      "Epoch 1/6\n",
      "2769/2769 [==============================] - 118s - loss: 0.0395 - val_loss: 0.0559\n",
      "Epoch 2/6\n",
      "2769/2769 [==============================] - 165s - loss: 0.0287 - val_loss: 0.0556\n",
      "Epoch 3/6\n",
      "2769/2769 [==============================] - 285s - loss: 0.0287 - val_loss: 0.0561\n",
      "Epoch 4/6\n",
      "2769/2769 [==============================] - 255s - loss: 0.0285 - val_loss: 0.0559\n",
      "Epoch 5/6\n",
      "2769/2769 [==============================] - 291s - loss: 0.0285 - val_loss: 0.0565\n",
      "Epoch 6/6\n",
      "2769/2769 [==============================] - 317s - loss: 0.0285 - val_loss: 0.0559\n"
     ]
    }
   ],
   "source": [
    "from keras.models import Sequential\n",
    "from keras.layers import Flatten, Dense, Lambda, Conv2D, Dropout, Cropping2D\n",
    "from keras.layers.pooling import MaxPooling2D\n",
    "\n",
    "model = Sequential()\n",
    "#Normalization\n",
    "model.add(Lambda(lambda x: (x/255.0 - 0.5), input_shape=(160,320,3)))\n",
    "#Cropping\n",
    "model.add(Cropping2D(cropping=((60, 10), (0, 0))))\n",
    "#Convolution->relu->MaxPooling\n",
    "model.add(Conv2D(32, 5, 5, activation='relu'))\n",
    "model.add(MaxPooling2D(pool_size=(2, 2)))\n",
    "#Convolution->relu->MaxPooling\n",
    "model.add(Conv2D(16, 5, 5, activation='relu'))\n",
    "model.add(MaxPooling2D(pool_size=(2, 2)))\n",
    "#Convolution->relu->MaxPooling\n",
    "model.add(Conv2D(4, 5, 5, activation='relu'))\n",
    "model.add(MaxPooling2D(pool_size=(2, 2)))\n",
    "#Dropout\n",
    "model.add(Dropout(0.5))\n",
    "#Flatten\n",
    "model.add(Flatten())\n",
    "#Fully connected\n",
    "model.add(Dense(100))\n",
    "model.add(Dense(50))\n",
    "model.add(Dense(25))\n",
    "model.add(Dense(10))\n",
    "model.add(Dense(5))\n",
    "model.add(Dropout(0.5))\n",
    "model.add(Dense(1))\n",
    "model.compile(loss='mse', optimizer='adam')\n",
    "model.fit(X_train, y_train, validation_split=0.3, shuffle=True, nb_epoch=6)\n",
    "\n",
    "model.save('model.h5')\n",
    "\n"
   ]
  },
  {
   "cell_type": "code",
   "execution_count": 7,
   "metadata": {},
   "outputs": [],
   "source": [
    "model.save('model.h5')"
   ]
  },
  {
   "cell_type": "code",
   "execution_count": null,
   "metadata": {},
   "outputs": [],
   "source": []
  }
 ],
 "metadata": {
  "kernelspec": {
   "display_name": "Python 3",
   "language": "python",
   "name": "python3"
  },
  "language_info": {
   "codemirror_mode": {
    "name": "ipython",
    "version": 3
   },
   "file_extension": ".py",
   "mimetype": "text/x-python",
   "name": "python",
   "nbconvert_exporter": "python",
   "pygments_lexer": "ipython3",
   "version": "3.5.2"
  },
  "widgets": {
   "state": {},
   "version": "1.1.2"
  }
 },
 "nbformat": 4,
 "nbformat_minor": 2
}
